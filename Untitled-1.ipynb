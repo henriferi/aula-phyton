{
 "cells": [
  {
   "cell_type": "code",
   "execution_count": 4,
   "metadata": {},
   "outputs": [
    {
     "name": "stdout",
     "output_type": "stream",
     "text": [
      "Henrique\n",
      "11\n",
      "2\n"
     ]
    }
   ],
   "source": [
    "pessoa = \"Henrique\";\n",
    "\n",
    "print(pessoa);\n",
    "\n",
    "numero = 1\n",
    "texto = \"1\"\n",
    "\n",
    "soma = texto + texto;\n",
    "\n",
    "somaVerdadeira = numero + numero;\n",
    "\n",
    "print(soma)\n",
    "print(somaVerdadeira)"
   ]
  },
  {
   "cell_type": "code",
   "execution_count": 13,
   "metadata": {},
   "outputs": [],
   "source": [
    "nome = 'Henrique';\n",
    "idade = 24;\n",
    "altura = 1.70;\n",
    "dev = True;\n",
    "\n"
   ]
  },
  {
   "cell_type": "code",
   "execution_count": 17,
   "metadata": {},
   "outputs": [],
   "source": [
    "idade = 24\n",
    "idade2 = 21\n"
   ]
  },
  {
   "cell_type": "code",
   "execution_count": 23,
   "metadata": {},
   "outputs": [
    {
     "name": "stdout",
     "output_type": "stream",
     "text": [
      "1\n",
      "1.1428571428571428\n"
     ]
    },
    {
     "data": {
      "text/plain": [
       "3"
      ]
     },
     "execution_count": 23,
     "metadata": {},
     "output_type": "execute_result"
    }
   ],
   "source": [
    "print(idade // idade2)\n",
    "print(idade / idade2)\n",
    "\n",
    "idade % idade2"
   ]
  },
  {
   "cell_type": "code",
   "execution_count": null,
   "metadata": {},
   "outputs": [],
   "source": []
  }
 ],
 "metadata": {
  "kernelspec": {
   "display_name": "Python 3",
   "language": "python",
   "name": "python3"
  },
  "language_info": {
   "codemirror_mode": {
    "name": "ipython",
    "version": 3
   },
   "file_extension": ".py",
   "mimetype": "text/x-python",
   "name": "python",
   "nbconvert_exporter": "python",
   "pygments_lexer": "ipython3",
   "version": "3.11.8"
  }
 },
 "nbformat": 4,
 "nbformat_minor": 2
}
